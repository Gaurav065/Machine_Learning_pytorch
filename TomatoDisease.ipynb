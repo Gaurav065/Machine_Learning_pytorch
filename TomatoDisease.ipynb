{
  "nbformat": 4,
  "nbformat_minor": 0,
  "metadata": {
    "colab": {
      "name": "TomatoDisease.ipynb",
      "provenance": [],
      "collapsed_sections": []
    },
    "kernelspec": {
      "name": "python3",
      "display_name": "Python 3"
    },
    "language_info": {
      "name": "python"
    },
    "accelerator": "GPU"
  },
  "cells": [
    {
      "cell_type": "code",
      "metadata": {
        "id": "K0RsjByflZ1S",
        "colab": {
          "base_uri": "https://localhost:8080/"
        },
        "outputId": "be03f09d-b94a-4f61-b3a6-3ca20516d4f2"
      },
      "source": [
        "from google.colab import drive\n",
        "drive.mount('/content/drive')"
      ],
      "execution_count": 1,
      "outputs": [
        {
          "output_type": "stream",
          "text": [
            "Drive already mounted at /content/drive; to attempt to forcibly remount, call drive.mount(\"/content/drive\", force_remount=True).\n"
          ],
          "name": "stdout"
        }
      ]
    },
    {
      "cell_type": "code",
      "metadata": {
        "id": "DX0P6uJk2ygz"
      },
      "source": [
        "from zipfile import ZipFile\n",
        "\n",
        "path = r\"/content/drive/MyDrive/Dataset/new_tomato_data.zip\"\n",
        "\n",
        "with ZipFile(path, 'r') as z:\n",
        "  z.extractall()"
      ],
      "execution_count": 2,
      "outputs": []
    },
    {
      "cell_type": "code",
      "metadata": {
        "id": "8zrTQK028Atg"
      },
      "source": [
        "import torch\n",
        "import os\n",
        "from torchvision.datasets import ImageFolder\n",
        "from torchvision.transforms import ToTensor\n",
        "from torch.utils.data import Dataset, DataLoader\n",
        "from torch.utils.data import random_split\n",
        "import numpy as np"
      ],
      "execution_count": 3,
      "outputs": []
    },
    {
      "cell_type": "code",
      "metadata": {
        "id": "BNGfWDrn9vT2"
      },
      "source": [
        "path = r'/content/new_tomato_data/train'\n",
        "dataset = ImageFolder(path, transform = ToTensor())"
      ],
      "execution_count": 4,
      "outputs": []
    },
    {
      "cell_type": "code",
      "metadata": {
        "colab": {
          "base_uri": "https://localhost:8080/"
        },
        "id": "WFMImCt6AUgW",
        "outputId": "7c786564-8bfa-44e7-e6aa-00653c1038b8"
      },
      "source": [
        "img,label = dataset[1000]\n",
        "print(img.dtype)\n",
        "print(dataset.classes[label])\n",
        "print(dataset.classes)"
      ],
      "execution_count": 5,
      "outputs": [
        {
          "output_type": "stream",
          "text": [
            "torch.float32\n",
            "early_blight\n",
            "['baterical_spot', 'early_blight', 'healthy', 'late_blight', 'leaf_mold', 'septoria_leaf_spot', 'spider_mites', 'target_spot', 'tomato_mosaic_virus', 'yellow_leaf_curl_virus']\n"
          ],
          "name": "stdout"
        }
      ]
    },
    {
      "cell_type": "code",
      "metadata": {
        "id": "872LeeXeyGE-"
      },
      "source": [
        "train_ds, test_ds = random_split(dataset,[9500,500])\n",
        "train_dl = DataLoader(train_ds, batch_size = 100)\n",
        "test_dl = DataLoader(test_ds, 100)"
      ],
      "execution_count": 6,
      "outputs": []
    },
    {
      "cell_type": "code",
      "metadata": {
        "id": "VXQyEO7RFlcP"
      },
      "source": [
        "import torch.nn as nn"
      ],
      "execution_count": 7,
      "outputs": []
    },
    {
      "cell_type": "code",
      "metadata": {
        "id": "aFjBa6uUGxQZ"
      },
      "source": [
        "class TomatoModel(nn.Module):\n",
        "  def __init__(self):\n",
        "    super().__init__()\n",
        "    self.network = nn.Sequential(\n",
        "        nn.Conv2d(3, 16, kernel_size=3, stride=1, padding=1),\n",
        "        nn.ReLU(),\n",
        "\n",
        "        nn.MaxPool2d(2,2), #output 16 x 64 x 64\n",
        "        \n",
        "        nn.Conv2d(16,32,kernel_size=3, stride=1, padding=1),\n",
        "        nn.ReLU(),\n",
        "        \n",
        "        nn.MaxPool2d(2,2), #output 32 x 32 x 32\n",
        "\n",
        "        nn.Conv2d(32,64,kernel_size=3, stride=1, padding=1),\n",
        "        nn.ReLU(),\n",
        "        \n",
        "        nn.MaxPool2d(2,2), #output 64 x 16 x 16\n",
        "\n",
        "        nn.Conv2d(64,128,kernel_size=3, stride=1, padding=1),\n",
        "        nn.ReLU(),\n",
        "        \n",
        "        nn.MaxPool2d(2,2), #output 128 x 8 x 8\n",
        "\n",
        "        nn.Conv2d(128,256,kernel_size=3, stride=1, padding=1),\n",
        "        nn.ReLU(),\n",
        "        \n",
        "        nn.MaxPool2d(2,2), #output 256 x 4 x 4\n",
        "\n",
        "        nn.Flatten(),\n",
        "        nn.Linear(256*4*4, 512),\n",
        "        nn.ReLU(),\n",
        "        \n",
        "        nn.Linear(512, 64),\n",
        "        nn.ReLU(),\n",
        "        nn.Linear(64,10)\n",
        "    )\n",
        "\n",
        "  def forward(self,x):\n",
        "    out = self.network(x)\n",
        "    return torch.softmax(out, dim=-1)"
      ],
      "execution_count": 8,
      "outputs": []
    },
    {
      "cell_type": "code",
      "metadata": {
        "id": "rCK6J03pbueR"
      },
      "source": [
        "device = torch.device('cuda' if torch.cuda.is_available() else 'cpu')"
      ],
      "execution_count": 9,
      "outputs": []
    },
    {
      "cell_type": "code",
      "metadata": {
        "colab": {
          "base_uri": "https://localhost:8080/"
        },
        "id": "MjQcBuTLU5iq",
        "outputId": "0d39f3ac-ee62-4fd0-9996-8aa110a6781f"
      },
      "source": [
        "model = TomatoModel().to(device)\n",
        "model.parameters()"
      ],
      "execution_count": 10,
      "outputs": [
        {
          "output_type": "execute_result",
          "data": {
            "text/plain": [
              "<generator object Module.parameters at 0x7ff805ad29d0>"
            ]
          },
          "metadata": {},
          "execution_count": 10
        }
      ]
    },
    {
      "cell_type": "code",
      "metadata": {
        "id": "SfQ7oE3UKXVu"
      },
      "source": [
        "opt_func = torch.optim.SGD(model.parameters(), lr = 5e-1)\n",
        "loss_func = nn.BCELoss()"
      ],
      "execution_count": 11,
      "outputs": []
    },
    {
      "cell_type": "code",
      "metadata": {
        "colab": {
          "base_uri": "https://localhost:8080/"
        },
        "id": "595falYRYnjb",
        "outputId": "86344e25-98d1-40c9-f532-55e9844a1fac"
      },
      "source": [
        "num_epochs = 1\n",
        "\n",
        "for epoch in range(num_epochs):\n",
        "  for images, labels in train_dl:\n",
        "    images = images.to(device)\n",
        "    pred = model(images)\n",
        "    result = []\n",
        "    for label in labels:\n",
        "      z = np.zeros(10)\n",
        "      z[int(label)] = 1\n",
        "      result.append(z.astype(np.float32))\n",
        "    result = torch.tensor(result)\n",
        "    result = result.to(device)\n",
        "    loss = loss_func(pred, result)\n",
        "    loss.backward()\n",
        "    opt_func.step()\n",
        "    opt_func.zero_grad()\n",
        "  prediction_arr = torch.argmax(pred, 1)\n",
        "  result_arr = torch.argmax(result, 1)\n",
        "  accuracy = torch.sum(prediction_arr == result_arr).item()/len(prediction_arr)\n",
        "  print(f'Accuracy: {accuracy*100} in the epoch: {epoch+1} and loss: {loss}')"
      ],
      "execution_count": 15,
      "outputs": [
        {
          "output_type": "stream",
          "text": [
            "Accuracy: 94.0 in the epoch: 1 and loss: 0.029911145567893982\n"
          ],
          "name": "stdout"
        }
      ]
    },
    {
      "cell_type": "code",
      "metadata": {
        "id": "tzsBjnEV2FfW"
      },
      "source": [
        "torch.save(model.state_dict,'tomato.pth')"
      ],
      "execution_count": 17,
      "outputs": []
    }
  ]
}