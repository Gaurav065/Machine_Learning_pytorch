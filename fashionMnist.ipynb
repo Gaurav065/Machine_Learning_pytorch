{
 "cells": [
  {
   "cell_type": "code",
   "execution_count": 1,
   "source": [
    "import torch\r\n",
    "import torchvision\r\n",
    "from torchvision.datasets import FashionMNIST"
   ],
   "outputs": [],
   "metadata": {}
  },
  {
   "cell_type": "code",
   "execution_count": 2,
   "source": [
    "dataset = FashionMNIST(root = 'fashion/', download= True)"
   ],
   "outputs": [
    {
     "output_type": "stream",
     "name": "stderr",
     "text": [
      "C:\\Users\\user\\AppData\\Local\\Programs\\Python\\Python39\\lib\\site-packages\\torchvision\\datasets\\mnist.py:498: UserWarning: The given NumPy array is not writeable, and PyTorch does not support non-writeable tensors. This means you can write to the underlying (supposedly non-writeable) NumPy array using the tensor. You may want to copy the array to protect its data or make it writeable before converting it to a tensor. This type of warning will be suppressed for the rest of this program. (Triggered internally at  ..\\torch\\csrc\\utils\\tensor_numpy.cpp:180.)\n",
      "  return torch.from_numpy(parsed.astype(m[2], copy=False)).view(*s)\n"
     ]
    }
   ],
   "metadata": {}
  },
  {
   "cell_type": "code",
   "execution_count": 3,
   "source": [
    "len(dataset)"
   ],
   "outputs": [
    {
     "output_type": "execute_result",
     "data": {
      "text/plain": [
       "60000"
      ]
     },
     "metadata": {},
     "execution_count": 3
    }
   ],
   "metadata": {}
  },
  {
   "cell_type": "code",
   "execution_count": 4,
   "source": [
    "import matplotlib.pyplot as plt\r\n",
    "%matplotlib inline"
   ],
   "outputs": [],
   "metadata": {}
  },
  {
   "cell_type": "code",
   "execution_count": 5,
   "source": [
    "dress, label = dataset[0]\r\n",
    "plt.imshow(dress, cmap='gray')\r\n",
    "print(dataset.classes[label])"
   ],
   "outputs": [
    {
     "output_type": "stream",
     "name": "stdout",
     "text": [
      "Ankle boot\n"
     ]
    },
    {
     "output_type": "display_data",
     "data": {
      "text/plain": [
       "<Figure size 432x288 with 1 Axes>"
      ],
      "image/png": "[encoded data removed]"
     },
     "metadata": {
      "needs_background": "light"
     }
    }
   ],
   "metadata": {}
  },
  {
   "cell_type": "code",
   "execution_count": 6,
   "source": [
    "import torchvision.transforms as transforms"
   ],
   "outputs": [],
   "metadata": {}
  },
  {
   "cell_type": "code",
   "execution_count": 7,
   "source": [
    "dataset = FashionMNIST(root='fashion/', train = True, transform= transforms.ToTensor())\r\n",
    "\r\n",
    "test_dataset = FashionMNIST(root = 'fashion/', train = False, transform= transforms.ToTensor())"
   ],
   "outputs": [],
   "metadata": {}
  },
  {
   "cell_type": "code",
   "execution_count": 8,
   "source": [
    "img_tensor, label = dataset[0]\r\n",
    "\r\n",
    "print(img_tensor.shape, dataset.classes[label])"
   ],
   "outputs": [
    {
     "output_type": "stream",
     "name": "stdout",
     "text": [
      "torch.Size([1, 28, 28]) Ankle boot\n"
     ]
    }
   ],
   "metadata": {}
  },
  {
   "cell_type": "code",
   "execution_count": 9,
   "source": [
    "from torch.utils.data import random_split\r\n",
    "\r\n",
    "train_ds, valid_ds = random_split(dataset, [50000,10000])\r\n",
    "len(train_ds), len(valid_ds)"
   ],
   "outputs": [
    {
     "output_type": "execute_result",
     "data": {
      "text/plain": [
       "(50000, 10000)"
      ]
     },
     "metadata": {},
     "execution_count": 9
    }
   ],
   "metadata": {}
  },
  {
   "cell_type": "code",
   "execution_count": 10,
   "source": [
    "from torch.utils.data import DataLoader\r\n",
    "\r\n",
    "batch_size = 100\r\n",
    "\r\n",
    "train_dl = DataLoader(train_ds, batch_size, shuffle= True)\r\n",
    "valid_dl = DataLoader(valid_ds, batch_size)"
   ],
   "outputs": [],
   "metadata": {}
  },
  {
   "cell_type": "code",
   "execution_count": 11,
   "source": [
    "import torch.nn as nn\r\n",
    "\r\n",
    "input_size = 28*28\r\n",
    "num_classes = 10"
   ],
   "outputs": [],
   "metadata": {}
  },
  {
   "cell_type": "code",
   "execution_count": 12,
   "source": [
    "def accuracy(outputs, labels):\r\n",
    "    _,preds = torch.max(outputs, dim=1)\r\n",
    "    return torch.tensor(torch.sum(preds == labels).item()/len(preds))"
   ],
   "outputs": [],
   "metadata": {}
  },
  {
   "cell_type": "code",
   "execution_count": 13,
   "source": [
    "class fashionModel(nn.Module):\r\n",
    "    def __init__(self,input_size, hidden_size, out_size):\r\n",
    "        super().__init__()\r\n",
    "        self.linear1 = nn.Linear(input_size, hidden_size)\r\n",
    "        self.linear2 = nn.Linear(hidden_size, out_size)\r\n",
    "    \r\n",
    "    def forward(self, xb):\r\n",
    "        xb = xb.view(xb.size(0),-1)\r\n",
    "        \r\n",
    "        out = self.linear1(xb)\r\n",
    "        \r\n",
    "        out = nn.functional.relu(out)\r\n",
    "        \r\n",
    "        out = self.linear2(out)\r\n",
    "        \r\n",
    "        return out\r\n",
    "    \r\n",
    "    def loss_detection(self, batch):\r\n",
    "        images, labels = batch\r\n",
    "        out = self(images)\r\n",
    "        loss = nn.functional.cross_entropy(out, labels)\r\n",
    "        return loss\r\n",
    "    \r\n",
    "    def validation_step(self, batch):\r\n",
    "        images, labels = batch\r\n",
    "        \r\n",
    "        out = self(images)\r\n",
    "        loss = nn.functional.cross_entropy(out, labels)\r\n",
    "        acc = accuracy(out, labels)\r\n",
    "        \r\n",
    "        return {'val_loss': loss, 'val_acc': acc}\r\n",
    "    \r\n",
    "    def validation_epoch_end(self, outputs):\r\n",
    "        batch_losses = [x['val_loss'] for x in outputs]\r\n",
    "        epoch_loss = torch.stack(batch_losses).mean()\r\n",
    "        batch_acc = [x['val_acc'] for x in outputs]\r\n",
    "        epoch_acc = torch.stack(batch_acc).mean()\r\n",
    "        \r\n",
    "        return {'val_loss': epoch_loss, 'val_acc': epoch_acc}\r\n",
    "    \r\n",
    "    def epoch_end(self, epoch, result):\r\n",
    "        print('Epoch [{}], val_loss:{:.4f}, val_acc: {:.2f}'.format(epoch+1, result['val_loss'], result['val_acc']))\r\n",
    "    "
   ],
   "outputs": [],
   "metadata": {}
  },
  {
   "cell_type": "code",
   "execution_count": 14,
   "source": [
    "input_size = 784\r\n",
    "hidden_size = 32\r\n",
    "num_classes = 10"
   ],
   "outputs": [],
   "metadata": {}
  },
  {
   "cell_type": "code",
   "execution_count": 15,
   "source": [
    "model = fashionModel(input_size, hidden_size, num_classes)"
   ],
   "outputs": [],
   "metadata": {}
  },
  {
   "cell_type": "code",
   "execution_count": 16,
   "source": [
    "for t in model.parameters():\r\n",
    "    print(t.shape)"
   ],
   "outputs": [
    {
     "output_type": "stream",
     "name": "stdout",
     "text": [
      "torch.Size([32, 784])\n",
      "torch.Size([32])\n",
      "torch.Size([10, 32])\n",
      "torch.Size([10])\n"
     ]
    }
   ],
   "metadata": {}
  },
  {
   "cell_type": "code",
   "execution_count": 17,
   "source": [
    "def evaluate(model, val_dl):\r\n",
    "    outputs = [model.validation_step(batch) for batch in val_dl]\r\n",
    "    return model.validation_epoch_end(outputs)\r\n",
    "\r\n",
    "def fit(epochs, lr, model, train_dl, valid_dl, opt_func = torch.optim.SGD):\r\n",
    "    history = []\r\n",
    "    optimizer = opt_func(model.parameters(), lr)\r\n",
    "    for epoch in range(epochs):\r\n",
    "        for batch in train_dl:\r\n",
    "            loss = model.loss_detection(batch)\r\n",
    "            loss.backward()\r\n",
    "            optimizer.step()\r\n",
    "            optimizer.zero_grad()\r\n",
    "        result = evaluate(model, valid_dl)\r\n",
    "        model.epoch_end(epoch, result)\r\n",
    "        history.append(result)\r\n",
    "    return history\r\n",
    "model = fashionModel(input_size, hidden_size, num_classes)"
   ],
   "outputs": [],
   "metadata": {}
  },
  {
   "cell_type": "code",
   "execution_count": 18,
   "source": [
    "history1 = fit(10,0.01, model, train_dl, valid_dl)"
   ],
   "outputs": [
    {
     "output_type": "stream",
     "name": "stdout",
     "text": [
      "Epoch [1], val_loss:0.9785, val_acc: 0.68\n",
      "Epoch [2], val_loss:0.7589, val_acc: 0.74\n",
      "Epoch [3], val_loss:0.6685, val_acc: 0.77\n",
      "Epoch [4], val_loss:0.6129, val_acc: 0.79\n",
      "Epoch [5], val_loss:0.5744, val_acc: 0.80\n",
      "Epoch [6], val_loss:0.5489, val_acc: 0.81\n",
      "Epoch [7], val_loss:0.5278, val_acc: 0.82\n",
      "Epoch [8], val_loss:0.5134, val_acc: 0.83\n",
      "Epoch [9], val_loss:0.4984, val_acc: 0.83\n",
      "Epoch [10], val_loss:0.4879, val_acc: 0.83\n"
     ]
    }
   ],
   "metadata": {}
  },
  {
   "cell_type": "code",
   "execution_count": 19,
   "source": [
    "def predict_image(img, model):\r\n",
    "    xb = img.unsqueeze(0)\r\n",
    "    yb = model(xb)\r\n",
    "    \r\n",
    "    _,preds = torch.max(yb, dim = 1)\r\n",
    "    return preds[0].item()"
   ],
   "outputs": [],
   "metadata": {}
  },
  {
   "cell_type": "code",
   "execution_count": 33,
   "source": [
    "img, label = test_dataset[1118]\r\n",
    "plt.imshow(img[0], cmap = 'gray')\r\n",
    "\r\n",
    "print('label: {} and Prediction: {}' .format(dataset.classes[label],dataset.classes[predict_image(img, model)]))"
   ],
   "outputs": [
    {
     "output_type": "stream",
     "name": "stdout",
     "text": [
      "label: Trouser and Prediction: Trouser\n"
     ]
    },
    {
     "output_type": "display_data",
     "data": {
      "text/plain": [
       "<Figure size 432x288 with 1 Axes>"
      ],
      "image/png": "[encoded data removed]"
     },
     "metadata": {
      "needs_background": "light"
     }
    }
   ],
   "metadata": {}
  },
  {
   "cell_type": "code",
   "execution_count": null,
   "source": [],
   "outputs": [],
   "metadata": {}
  }
 ],
 "metadata": {
  "orig_nbformat": 4,
  "language_info": {
   "name": "python",
   "version": "3.9.0",
   "mimetype": "text/x-python",
   "codemirror_mode": {
    "name": "ipython",
    "version": 3
   },
   "pygments_lexer": "ipython3",
   "nbconvert_exporter": "python",
   "file_extension": ".py"
  },
  "kernelspec": {
   "name": "python3",
   "display_name": "Python 3.9.0 64-bit"
  },
  "interpreter": {
   "hash": "247ab06e135bb35fa78c5eff31b2a9a0050dcb5fb773c2631d2a29ac689eeccb"
  }
 },
 "nbformat": 4,
 "nbformat_minor": 2
}