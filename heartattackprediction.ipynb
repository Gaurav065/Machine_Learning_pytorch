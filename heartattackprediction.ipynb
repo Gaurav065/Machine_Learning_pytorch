{
 "cells": [
  {
   "cell_type": "code",
   "execution_count": 32,
   "source": [
    "import pandas as pd\r\n",
    "import torch\r\n",
    "import numpy as np\r\n",
    "from sklearn.preprocessing import StandardScaler\r\n",
    "from sklearn.model_selection import train_test_split\r\n",
    "import torch.nn as nn"
   ],
   "outputs": [],
   "metadata": {}
  },
  {
   "cell_type": "code",
   "execution_count": 33,
   "source": [
    "data_path = r'D:\\Coding\\Python Programming\\heart.csv'\r\n",
    "dataset = pd.read_csv(data_path)"
   ],
   "outputs": [],
   "metadata": {}
  },
  {
   "cell_type": "code",
   "execution_count": 34,
   "source": [
    "inputs = dataset[['age','sex','cp','trtbps','chol','fbs','restecg','thalachh','exng','oldpeak','slp','caa','thall']]\r\n",
    "targets = dataset['output']\r\n",
    "inputs = np.array(inputs)\r\n",
    "targets = np.array(targets)"
   ],
   "outputs": [],
   "metadata": {}
  },
  {
   "cell_type": "code",
   "execution_count": 35,
   "source": [
    "x_train, x_test, y_train, y_test = train_test_split(inputs, targets, test_size= 0.3)\r\n",
    "\r\n",
    "sc = StandardScaler()\r\n",
    "\r\n",
    "x_train = sc.fit_transform(x_train)\r\n",
    "x_test = sc.fit_transform(x_test)\r\n",
    "\r\n",
    "x_train = torch.from_numpy(x_train.astype(np.float32))\r\n",
    "x_test = torch.from_numpy(x_test.astype(np.float32))\r\n",
    "y_train = torch.from_numpy(y_train.astype(np.float32))\r\n",
    "y_test = torch.from_numpy(y_test.astype(np.float32))\r\n",
    "\r\n",
    "y_train = y_train.view(y_train.shape[0], 1)\r\n",
    "y_test = y_test.view(y_test.shape[0], 1)\r\n"
   ],
   "outputs": [],
   "metadata": {}
  },
  {
   "cell_type": "code",
   "execution_count": 36,
   "source": [
    "class HeartAttack(nn.Module):\r\n",
    "    def __init__(self):\r\n",
    "        super(HeartAttack, self).__init__()\r\n",
    "        self.linear = nn.Linear(13, 1)\r\n",
    "    \r\n",
    "    def forward(self,x):\r\n",
    "        out = torch.sigmoid(self.linear(x))\r\n",
    "        return out\r\n",
    "\r\n",
    "model = HeartAttack()"
   ],
   "outputs": [],
   "metadata": {}
  },
  {
   "cell_type": "code",
   "execution_count": 37,
   "source": [
    "loss_fn = nn.BCELoss()\r\n",
    "optimizer = torch.optim.SGD(model.parameters(), lr = 0.03)\r\n",
    "\r\n",
    "epochs = 10000\r\n",
    "\r\n",
    "for epoch in range(epochs):\r\n",
    "    preds = model(x_train)\r\n",
    "    loss = loss_fn(preds, y_train)\r\n",
    "    \r\n",
    "    loss.backward()\r\n",
    "    optimizer.step()\r\n",
    "    optimizer.zero_grad()\r\n",
    "    \r\n",
    "    if (epoch+1) % 1000 == 0:\r\n",
    "        with torch.no_grad():\r\n",
    "            pred_ = preds.round()\r\n",
    "            acc = pred_.eq(y_train).sum() / float(y_train.shape[0])\r\n",
    "            print('Accruracy after {} epochs: {:.3f}'.format(epoch+1, acc))\r\n",
    "    \r\n",
    "\r\n",
    "with torch.no_grad():\r\n",
    "    pred = model(x_test)\r\n",
    "    pred_ = pred.round()\r\n",
    "    acc = pred_.eq(y_test).sum() / float(y_test.shape[0])\r\n",
    "    print('Tested Accuracy: {:.3f}'.format(acc))"
   ],
   "outputs": [
    {
     "output_type": "stream",
     "name": "stdout",
     "text": [
      "Accruracy after 1000 epochs: 0.849\n",
      "Accruracy after 2000 epochs: 0.840\n",
      "Accruracy after 3000 epochs: 0.840\n",
      "Accruracy after 4000 epochs: 0.840\n",
      "Accruracy after 5000 epochs: 0.840\n",
      "Accruracy after 6000 epochs: 0.840\n",
      "Accruracy after 7000 epochs: 0.840\n",
      "Accruracy after 8000 epochs: 0.840\n",
      "Accruracy after 9000 epochs: 0.840\n",
      "Accruracy after 10000 epochs: 0.840\n",
      "Tested Accuracy: 0.879\n"
     ]
    }
   ],
   "metadata": {}
  },
  {
   "cell_type": "code",
   "execution_count": 41,
   "source": [
    "i = 65\r\n",
    "pred = model(x_test[i])\r\n",
    "pred = pred.round()\r\n",
    "print(pred, y_test[i])"
   ],
   "outputs": [
    {
     "output_type": "stream",
     "name": "stdout",
     "text": [
      "tensor([0.], grad_fn=<RoundBackward>) tensor([1.])\n"
     ]
    }
   ],
   "metadata": {}
  }
 ],
 "metadata": {
  "orig_nbformat": 4,
  "language_info": {
   "name": "python",
   "version": "3.9.0",
   "mimetype": "text/x-python",
   "codemirror_mode": {
    "name": "ipython",
    "version": 3
   },
   "pygments_lexer": "ipython3",
   "nbconvert_exporter": "python",
   "file_extension": ".py"
  },
  "kernelspec": {
   "name": "python3",
   "display_name": "Python 3.9.0 64-bit"
  },
  "interpreter": {
   "hash": "247ab06e135bb35fa78c5eff31b2a9a0050dcb5fb773c2631d2a29ac689eeccb"
  }
 },
 "nbformat": 4,
 "nbformat_minor": 2
}